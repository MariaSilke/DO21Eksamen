{
 "cells": [
  {
   "cell_type": "code",
   "execution_count": 16,
   "id": "3a5a0b63",
   "metadata": {},
   "outputs": [],
   "source": [
    "import numpy as np\n",
    "import pandas as pd\n",
    "import seaborn as sns\n",
    "import matplotlib.pyplot as plt\n",
    "import matplotlib.pyplot as plt; plt.rcdefaults()"
   ]
  },
  {
   "cell_type": "code",
   "execution_count": 9,
   "id": "6f020598",
   "metadata": {},
   "outputs": [
    {
     "data": {
      "text/html": [
       "<div>\n",
       "<style scoped>\n",
       "    .dataframe tbody tr th:only-of-type {\n",
       "        vertical-align: middle;\n",
       "    }\n",
       "\n",
       "    .dataframe tbody tr th {\n",
       "        vertical-align: top;\n",
       "    }\n",
       "\n",
       "    .dataframe thead th {\n",
       "        text-align: right;\n",
       "    }\n",
       "</style>\n",
       "<table border=\"1\" class=\"dataframe\">\n",
       "  <thead>\n",
       "    <tr style=\"text-align: right;\">\n",
       "      <th></th>\n",
       "      <th>2017</th>\n",
       "      <th>2018</th>\n",
       "      <th>2019</th>\n",
       "      <th>2020</th>\n",
       "    </tr>\n",
       "  </thead>\n",
       "  <tbody>\n",
       "    <tr>\n",
       "      <th>Gule- og røde institutioner i pct</th>\n",
       "      <td>51</td>\n",
       "      <td>47</td>\n",
       "      <td>40</td>\n",
       "      <td>33</td>\n",
       "    </tr>\n",
       "  </tbody>\n",
       "</table>\n",
       "</div>"
      ],
      "text/plain": [
       "                                   2017  2018  2019  2020\n",
       "Gule- og røde institutioner i pct    51    47    40    33"
      ]
     },
     "execution_count": 9,
     "metadata": {},
     "output_type": "execute_result"
    }
   ],
   "source": [
    "rapporter = {\n",
    "    '2017': [51],\n",
    "    '2018': [47],\n",
    "    '2019': [40],\n",
    "    '2020': [33],\n",
    "}\n",
    "\n",
    "df_rap = pd.DataFrame(rapporter)\n",
    "\n",
    "df_rap.index = ['Gule- og røde institutioner i pct']\n",
    "\n",
    "df_rap"
   ]
  },
  {
   "cell_type": "code",
   "execution_count": 24,
   "id": "04550fd2",
   "metadata": {},
   "outputs": [
    {
     "data": {
      "image/png": "[encoded data removed]",
      "text/plain": [
       "<Figure size 640x480 with 1 Axes>"
      ]
     },
     "metadata": {},
     "output_type": "display_data"
    }
   ],
   "source": [
    "objects = ('2017', '2018', '2019', '2020')\n",
    "y_pos = np.arange(len(objects))\n",
    "rapporter = [51, 47, 40, 33]\n",
    "\n",
    "plt.bar(y_pos, rapporter, align='center', alpha=0.5)\n",
    "plt.xticks(y_pos, objects)\n",
    "plt.ylabel('Pct. af inst. som er gule eller røde')\n",
    "plt.title('Tilsynsrapporter')\n",
    "\n",
    "plt.show()"
   ]
  }
 ],
 "metadata": {
  "kernelspec": {
   "display_name": "Python 3",
   "language": "python",
   "name": "python3"
  },
  "language_info": {
   "codemirror_mode": {
    "name": "ipython",
    "version": 3
   },
   "file_extension": ".py",
   "mimetype": "text/x-python",
   "name": "python",
   "nbconvert_exporter": "python",
   "pygments_lexer": "ipython3",
   "version": "3.8.8"
  }
 },
 "nbformat": 4,
 "nbformat_minor": 5
}
